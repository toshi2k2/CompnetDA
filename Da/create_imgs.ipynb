{
 "cells": [
  {
   "cell_type": "code",
   "execution_count": 42,
   "metadata": {},
   "outputs": [],
   "source": [
    "import pickle\n",
    "from PIL import Image, ImageOps\n",
    "import glob, random"
   ]
  },
  {
   "cell_type": "code",
   "execution_count": 43,
   "metadata": {},
   "outputs": [],
   "source": [
    "def concat_images(image_paths, size, shape=None, crop=False):\n",
    "    # Open images and resize them\n",
    "    width, height = size\n",
    "    images = map(Image.open, image_paths)\n",
    "    if crop:\n",
    "        images = [ImageOps.crop(image, border=40) for image in images]\n",
    "    images = [ImageOps.fit(image, size, Image.ANTIALIAS) \n",
    "              for image in images]\n",
    "    \n",
    "    # Create canvas for the final image with total size\n",
    "    shape = shape if shape else (1, len(images))\n",
    "    image_size = (width * shape[1], height * shape[0])\n",
    "    image = Image.new('RGB', image_size)\n",
    "    \n",
    "    # Paste images into final image\n",
    "    for row in range(shape[0]):\n",
    "        for col in range(shape[1]):\n",
    "            offset = width * col, height * row\n",
    "            idx = row * shape[1] + col\n",
    "            image.paste(images[idx], offset)\n",
    "    \n",
    "    return image"
   ]
  },
  {
   "cell_type": "code",
   "execution_count": 44,
   "metadata": {},
   "outputs": [],
   "source": [
    "dict_dir = '../models/FINAL/init_vgg_tr/dictionary_vgg_tr/cluster_images_pool5_512'\n",
    "# da_dict_dir1 = '../models/da_init_vgg_tr_reg05/dictionary_vgg_tr/cluster_images_pool5_512'\n",
    "da_dict_dir2 = '../models/da_init_vgg_tr_reg3/dictionary_vgg_tr/cluster_images_pool5_512'\n",
    "# da_dict_dir3 = '../models/da_init_vgg_tr/dictionary_vgg_tr/'\n",
    "layer = 'pool5'\n",
    "vc_num = 512\n",
    "vc_id = [0, 17, 45]\n",
    "clean_imgs = [1,3,4,7,14,22]\n",
    "cor_imgs = [3,4,5,7,21,12]\n",
    "clean_imgs = list(map(str, clean_imgs))\n",
    "cor_imgs = list(map(str, cor_imgs))\n",
    "clean_imgs_lst = []\n",
    "\n",
    "for i in clean_imgs:\n",
    "    # print(i, type(i))\n",
    "    clean_imgs_lst.append(dict_dir+'/17/'+i+'.JPEG')\n",
    "\n",
    "cor_imgs_lst = []\n",
    "\n",
    "for i in cor_imgs:\n",
    "    cor_imgs_lst.append(da_dict_dir2+'/17/'+i+'.JPEG')"
   ]
  },
  {
   "cell_type": "code",
   "execution_count": 149,
   "metadata": {},
   "outputs": [
    {
     "name": "stdout",
     "output_type": "stream",
     "text": [
      "Loading clean Vmf Kernels\n"
     ]
    }
   ],
   "source": [
    "# paths = ['../models/da_init_vgg_tr_reg05/dictionary_vgg_tr/', '../models/da_init_vgg_tr_reg3/dictionary_vgg_tr/',\\\n",
    "#     '../models/da_init_vgg_tr_regadapt/dictionary_vgg_tr/', '../models/da_init_vgg_tr_reg1/dictionary_vgg_tr/',\\\n",
    "#         '../models/da_init_vgg_tr_reg0/dictionary_vgg_tr/']\n",
    "# labels = ['0.5', '0.3', 'adaptive', '1', '0']\n",
    "# centers = []\n",
    "# for pt in paths:\n",
    "#     with open(pt+'dictionary_{}_{}.pickle'.format(layer, vc_num), 'rb') as fh:\n",
    "#         centers.append(pickle.load(fh))\n",
    "\n",
    "da_dict_pth='../models/da_init_vgg_tr_reg3/dictionary_vgg_tr/'\n",
    "dict_dir_pth ='../models/FINAL/init_vgg_tr/dictionary_vgg_tr/'\n",
    "with open(da_dict_pth+'dictionary_{}_{}.pickle'.format(layer, vc_num), 'rb') as fh:\n",
    "    centers_cor2 = pickle.load(fh)\n",
    "# with open(da_dict_dir3+'dictionary_{}_{}.pickle'.format(layer, vc_num), 'rb') as fh:\n",
    "#     centers_cor3 = pickle.load(fh)\n",
    "print(\"Loading clean Vmf Kernels\")\n",
    "with open(dict_dir_pth+'dictionary_{}_{}.pickle'.format(layer, vc_num), 'rb') as fh:\n",
    "    centers_cln = pickle.load(fh)\n",
    "# print(centers_cln.shape, centers[0].shape)"
   ]
  },
  {
   "cell_type": "code",
   "execution_count": 216,
   "metadata": {},
   "outputs": [],
   "source": [
    "nmbr = '490'\n",
    "filenames = glob.glob(dict_dir+'/'+nmbr+'/'+'*.JPEG') #assuming gif\n",
    "ranclean = random.sample(filenames, k=9)\n",
    "cfilenames = glob.glob(da_dict_dir2+'/'+nmbr+'/'+'*.JPEG') #assuming gif\n",
    "rancor = random.sample(cfilenames, k=9)"
   ]
  },
  {
   "cell_type": "code",
   "execution_count": 217,
   "metadata": {},
   "outputs": [],
   "source": [
    "x = concat_images(ranclean, size=(200,200), shape=(3,3), crop=True)\n",
    "# x.show()\n",
    "y = concat_images(rancor, size=(200,200), shape=(3,3), crop=True)\n",
    "y.show()"
   ]
  },
  {
   "cell_type": "code",
   "execution_count": 209,
   "metadata": {},
   "outputs": [],
   "source": [
    "x.show()"
   ]
  },
  {
   "cell_type": "code",
   "execution_count": 197,
   "metadata": {},
   "outputs": [],
   "source": [
    "x.save('../results/paper/cln3x3_'+nmbr+'.jpg', 'JPEG')\n",
    "y.save('../results/paper/cor3x3_'+nmbr+'.jpg', 'JPEG')"
   ]
  },
  {
   "cell_type": "code",
   "execution_count": 48,
   "metadata": {},
   "outputs": [],
   "source": [
    "# x = concat_images(ranclean, size=(200,200), shape=(3,2))\n",
    "x = concat_images(clean_imgs_lst, size=(200,200), shape=(2,3), crop=True)\n",
    "y = concat_images(cor_imgs_lst, size=(200,200), shape=(2,3), crop=True)"
   ]
  },
  {
   "cell_type": "code",
   "execution_count": 25,
   "metadata": {},
   "outputs": [],
   "source": [
    "x.show()"
   ]
  },
  {
   "cell_type": "code",
   "execution_count": 22,
   "metadata": {},
   "outputs": [],
   "source": [
    "y.show()"
   ]
  },
  {
   "cell_type": "code",
   "execution_count": 69,
   "metadata": {},
   "outputs": [],
   "source": [
    "x.save('../results/paper/clean45.jpg', 'JPEG')\n",
    "y.save('../results/paper/cor45.jpg', 'JPEG')"
   ]
  },
  {
   "cell_type": "code",
   "execution_count": null,
   "metadata": {},
   "outputs": [],
   "source": []
  }
 ],
 "metadata": {
  "interpreter": {
   "hash": "0bb6b00c8dbbd731186d9006c609951d7510325b295fc99025ec3eb7c56f960b"
  },
  "kernelspec": {
   "display_name": "Python 3.9.9 ('base')",
   "language": "python",
   "name": "python3"
  },
  "language_info": {
   "codemirror_mode": {
    "name": "ipython",
    "version": 3
   },
   "file_extension": ".py",
   "mimetype": "text/x-python",
   "name": "python",
   "nbconvert_exporter": "python",
   "pygments_lexer": "ipython3",
   "version": "3.9.9"
  },
  "orig_nbformat": 4
 },
 "nbformat": 4,
 "nbformat_minor": 2
}
